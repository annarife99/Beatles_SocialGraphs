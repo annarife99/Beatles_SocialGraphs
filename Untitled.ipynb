{
 "cells": [
  {
   "cell_type": "code",
   "execution_count": 1,
   "id": "b420ed0e",
   "metadata": {},
   "outputs": [
    {
     "data": {
      "text/html": [
       "<div>\n",
       "<style scoped>\n",
       "    .dataframe tbody tr th:only-of-type {\n",
       "        vertical-align: middle;\n",
       "    }\n",
       "\n",
       "    .dataframe tbody tr th {\n",
       "        vertical-align: top;\n",
       "    }\n",
       "\n",
       "    .dataframe thead th {\n",
       "        text-align: right;\n",
       "    }\n",
       "</style>\n",
       "<table border=\"1\" class=\"dataframe\">\n",
       "  <thead>\n",
       "    <tr style=\"text-align: right;\">\n",
       "      <th></th>\n",
       "      <th>Song</th>\n",
       "      <th>Year</th>\n",
       "      <th>Month</th>\n",
       "      <th>Day</th>\n",
       "      <th>Lyrics</th>\n",
       "    </tr>\n",
       "  </thead>\n",
       "  <tbody>\n",
       "    <tr>\n",
       "      <th>0</th>\n",
       "      <td>love-me-do</td>\n",
       "      <td>1962</td>\n",
       "      <td>October</td>\n",
       "      <td>5</td>\n",
       "      <td>Yes</td>\n",
       "    </tr>\n",
       "    <tr>\n",
       "      <th>1</th>\n",
       "      <td>ps-i-love-you</td>\n",
       "      <td>1962</td>\n",
       "      <td>October</td>\n",
       "      <td>5</td>\n",
       "      <td>Yes</td>\n",
       "    </tr>\n",
       "    <tr>\n",
       "      <th>2</th>\n",
       "      <td>ask-me-why</td>\n",
       "      <td>1963</td>\n",
       "      <td>January</td>\n",
       "      <td>11</td>\n",
       "      <td>Yes</td>\n",
       "    </tr>\n",
       "    <tr>\n",
       "      <th>3</th>\n",
       "      <td>please-please-me</td>\n",
       "      <td>1963</td>\n",
       "      <td>January</td>\n",
       "      <td>11</td>\n",
       "      <td>No</td>\n",
       "    </tr>\n",
       "    <tr>\n",
       "      <th>4</th>\n",
       "      <td>taste-honey</td>\n",
       "      <td>1963</td>\n",
       "      <td>March</td>\n",
       "      <td>22</td>\n",
       "      <td>No</td>\n",
       "    </tr>\n",
       "    <tr>\n",
       "      <th>...</th>\n",
       "      <td>...</td>\n",
       "      <td>...</td>\n",
       "      <td>...</td>\n",
       "      <td>...</td>\n",
       "      <td>...</td>\n",
       "    </tr>\n",
       "    <tr>\n",
       "      <th>296</th>\n",
       "      <td>you-know-what-do</td>\n",
       "      <td>1995</td>\n",
       "      <td>November</td>\n",
       "      <td>20</td>\n",
       "      <td>Yes</td>\n",
       "    </tr>\n",
       "    <tr>\n",
       "      <th>297</th>\n",
       "      <td>you-never-give-me-your-money</td>\n",
       "      <td>1969</td>\n",
       "      <td>September</td>\n",
       "      <td>26</td>\n",
       "      <td>Yes</td>\n",
       "    </tr>\n",
       "    <tr>\n",
       "      <th>298</th>\n",
       "      <td>sie-liebt-dich</td>\n",
       "      <td>1964</td>\n",
       "      <td>March</td>\n",
       "      <td>5</td>\n",
       "      <td>Yes</td>\n",
       "    </tr>\n",
       "    <tr>\n",
       "      <th>299</th>\n",
       "      <td>slow-down</td>\n",
       "      <td>1958</td>\n",
       "      <td>March</td>\n",
       "      <td>7</td>\n",
       "      <td>No</td>\n",
       "    </tr>\n",
       "    <tr>\n",
       "      <th>300</th>\n",
       "      <td>you-me-too-much</td>\n",
       "      <td>1965</td>\n",
       "      <td>August</td>\n",
       "      <td>6</td>\n",
       "      <td>Yes</td>\n",
       "    </tr>\n",
       "  </tbody>\n",
       "</table>\n",
       "<p>301 rows × 5 columns</p>\n",
       "</div>"
      ],
      "text/plain": [
       "                             Song  Year      Month  Day Lyrics\n",
       "0                      love-me-do  1962    October    5    Yes\n",
       "1                   ps-i-love-you  1962    October    5    Yes\n",
       "2                      ask-me-why  1963    January   11    Yes\n",
       "3                please-please-me  1963    January   11     No\n",
       "4                     taste-honey  1963      March   22     No\n",
       "..                            ...   ...        ...  ...    ...\n",
       "296              you-know-what-do  1995   November   20    Yes\n",
       "297  you-never-give-me-your-money  1969  September   26    Yes\n",
       "298                sie-liebt-dich  1964      March    5    Yes\n",
       "299                     slow-down  1958      March    7     No\n",
       "300               you-me-too-much  1965     August    6    Yes\n",
       "\n",
       "[301 rows x 5 columns]"
      ]
     },
     "execution_count": 1,
     "metadata": {},
     "output_type": "execute_result"
    }
   ],
   "source": [
    "#All the necessary packages we used for this project\n",
    "import pandas as pd\n",
    "import numpy as np\n",
    "import json\n",
    "import networkx as nx\n",
    "import matplotlib.pyplot as plt\n",
    "import matplotlib.patches as mpatches\n",
    "import matplotlib.cm as cm\n",
    "import plotly.express as px\n",
    "import ast\n",
    "import operator\n",
    "import powerlaw\n",
    "from fa2 import ForceAtlas2\n",
    "import re\n",
    "from urllib.request import urlopen\n",
    "import urllib.request as urllib2\n",
    "import os\n",
    "\n",
    "\n",
    "\n",
    "\n",
    "songs = pd.read_csv(\"Songs_Sorted_Years.csv\")  \n",
    "songs"
   ]
  },
  {
   "cell_type": "code",
   "execution_count": 12,
   "id": "773b50f8",
   "metadata": {},
   "outputs": [
    {
     "name": "stdout",
     "output_type": "stream",
     "text": [
      "301\n"
     ]
    }
   ],
   "source": [
    "songs = pd.read_csv(\"Songs_Sorted_Years.csv\")  \n",
    "DataSongs=pd.DataFrame(songs)\n",
    "\n",
    "print(len(DataSongs))"
   ]
  },
  {
   "cell_type": "code",
   "execution_count": 10,
   "id": "b67e5a26",
   "metadata": {},
   "outputs": [
    {
     "data": {
      "text/plain": [
       "301"
      ]
     },
     "execution_count": 10,
     "metadata": {},
     "output_type": "execute_result"
    }
   ],
   "source": [
    "\n",
    "206+95"
   ]
  },
  {
   "cell_type": "code",
   "execution_count": null,
   "id": "446bac59",
   "metadata": {},
   "outputs": [],
   "source": []
  }
 ],
 "metadata": {
  "kernelspec": {
   "display_name": "Python 3 (ipykernel)",
   "language": "python",
   "name": "python3"
  },
  "language_info": {
   "codemirror_mode": {
    "name": "ipython",
    "version": 3
   },
   "file_extension": ".py",
   "mimetype": "text/x-python",
   "name": "python",
   "nbconvert_exporter": "python",
   "pygments_lexer": "ipython3",
   "version": "3.7.11"
  }
 },
 "nbformat": 4,
 "nbformat_minor": 5
}
